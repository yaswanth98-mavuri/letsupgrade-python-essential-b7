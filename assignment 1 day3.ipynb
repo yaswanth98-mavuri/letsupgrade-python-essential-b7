{
 "cells": [
  {
   "cell_type": "code",
   "execution_count": null,
   "metadata": {},
   "outputs": [],
   "source": [
    " #1"
   ]
  },
  {
   "cell_type": "code",
   "execution_count": null,
   "metadata": {},
   "outputs": [
    {
     "name": "stdout",
     "output_type": "stream",
     "text": [
      "altitude for the ground(in feets)---5000\n",
      "turn around\n",
      "altitude for the ground(in feets)---1000\n",
      "safe to land\n",
      "altitude for the ground(in feets)---500\n",
      "safe to land\n",
      "altitude for the ground(in feets)---1500\n",
      "bring to below 1000 feet\n"
     ]
    }
   ],
   "source": [
    "for altitude in range(1000,10000):\n",
    "    altitude=int(input(\"altitude for the ground(in feets)---\"))\n",
    "    \n",
    "    if (altitude <= 1000):\n",
    "        print(\"safe to land\")\n",
    "        \n",
    "    elif (1000 < altitude < 5000):\n",
    "        print(\"bring to below 1000 feet\")\n",
    "    \n",
    "    else:\n",
    "        print(\"turn around\")"
   ]
  },
  {
   "cell_type": "code",
   "execution_count": null,
   "metadata": {},
   "outputs": [],
   "source": [
    "#2"
   ]
  },
  {
   "cell_type": "code",
   "execution_count": 1,
   "metadata": {},
   "outputs": [
    {
     "name": "stdout",
     "output_type": "stream",
     "text": [
      "2\n",
      "3\n",
      "5\n",
      "7\n",
      "11\n",
      "13\n",
      "17\n",
      "19\n",
      "23\n",
      "29\n",
      "31\n",
      "37\n",
      "41\n",
      "43\n",
      "47\n",
      "53\n",
      "59\n",
      "61\n",
      "67\n",
      "71\n",
      "73\n",
      "79\n",
      "83\n",
      "89\n",
      "97\n",
      "101\n",
      "103\n",
      "107\n",
      "109\n",
      "113\n",
      "127\n",
      "131\n",
      "137\n",
      "139\n",
      "149\n",
      "151\n",
      "157\n",
      "163\n",
      "167\n",
      "173\n",
      "179\n",
      "181\n",
      "191\n",
      "193\n",
      "197\n",
      "199\n"
     ]
    }
   ],
   "source": [
    "  \n",
    "for num in range(1,200):  \n",
    "    \n",
    "    if num > 1:  \n",
    "        \n",
    "        for i in range(2,num):  \n",
    "            \n",
    "            if (num % i) == 0:  \n",
    "                break  \n",
    "        else:  \n",
    "            print(num)  \n",
    "    \n",
    "    "
   ]
  },
  {
   "cell_type": "code",
   "execution_count": null,
   "metadata": {},
   "outputs": [],
   "source": []
  }
 ],
 "metadata": {
  "kernelspec": {
   "display_name": "Python 3",
   "language": "python",
   "name": "python3"
  },
  "language_info": {
   "codemirror_mode": {
    "name": "ipython",
    "version": 3
   },
   "file_extension": ".py",
   "mimetype": "text/x-python",
   "name": "python",
   "nbconvert_exporter": "python",
   "pygments_lexer": "ipython3",
   "version": "3.8.3"
  }
 },
 "nbformat": 4,
 "nbformat_minor": 4
}
